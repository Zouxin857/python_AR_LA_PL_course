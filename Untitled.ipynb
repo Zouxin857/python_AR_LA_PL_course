{
 "cells": [
  {
   "cell_type": "code",
   "execution_count": 2,
   "id": "734cadf1-bbe7-478a-8d42-f1b9f7b35178",
   "metadata": {},
   "outputs": [
    {
     "name": "stdout",
     "output_type": "stream",
     "text": [
      "hellow python\n"
     ]
    }
   ],
   "source": [
    "print(\"hellow python\")"
   ]
  },
  {
   "cell_type": "code",
   "execution_count": 7,
   "id": "1410e02d-741e-43a0-8f4d-40b2185e0e69",
   "metadata": {},
   "outputs": [
    {
     "name": "stdout",
     "output_type": "stream",
     "text": [
      "monadic_equation= 496.0\n",
      "monadic_equation=496.000\n",
      "monadic_equation=496.000\n"
     ]
    }
   ],
   "source": [
    "x=55.0\n",
    "monadic_equation=9*x+1\n",
    "print(\"monadic_equation=\",monadic_equation)\n",
    "print(\"monadic_equation=%.3f\"%monadic_equation)\n",
    "print(\"monadic_equation={:.3f}\".format(monadic_equation))"
   ]
  },
  {
   "cell_type": "code",
   "execution_count": 15,
   "id": "2920e45f-35f5-4f48-8acd-346b0be9fbd9",
   "metadata": {},
   "outputs": [
    {
     "name": "stdout",
     "output_type": "stream",
     "text": [
      "the longitude of the chengdu coordinate is102.55,and the latitude is 30.05.\n"
     ]
    }
   ],
   "source": [
    "city_name=\"chengdu\"\n",
    "coordinate_longitude=102.5496\n",
    "coordinate_latitude=30.05\n",
    "print(\"the longitude of the chengdu coordinate is{lon:.2f},and the latitude is {lat}.\".format(lon=coordinate_longitude,lat=coordinate_latitude))"
   ]
  },
  {
   "cell_type": "code",
   "execution_count": 19,
   "id": "a820ad97-317b-450a-adca-4d9c136c6be8",
   "metadata": {},
   "outputs": [
    {
     "name": "stdout",
     "output_type": "stream",
     "text": [
      "func_2=9\n"
     ]
    }
   ],
   "source": [
    "a,b,c=9,6,8\n",
    "func_2=2*a+3*b+c\n",
    "print(\"func_2={}\".format(a,b,c,func_2))"
   ]
  },
  {
   "cell_type": "code",
   "execution_count": 23,
   "id": "513dbdbb-aef4-4740-ab8e-4c4939b695d0",
   "metadata": {},
   "outputs": [
    {
     "name": "stdout",
     "output_type": "stream",
     "text": [
      "[8, 12, 16, 20, 24, 28]\n",
      "the list length=6\n",
      "maximum value=28\n",
      "minimum value=8\n"
     ]
    }
   ],
   "source": [
    "lst_n=list(range(8,32,4))\n",
    "print(lst_n)\n",
    "print(\"the list length={}\".format(len(lst_n)))\n",
    "print(\"maximum value={}\".format(max(lst_n)))\n",
    "print(\"minimum value={}\".format(min(lst_n)))"
   ]
  },
  {
   "cell_type": "code",
   "execution_count": 26,
   "id": "aee509bf-a3ae-4c59-b87b-1a1ba3f903ff",
   "metadata": {},
   "outputs": [
    {
     "name": "stdout",
     "output_type": "stream",
     "text": [
      "['d', 'e', 'f', 'g', 'h', 'i', 'j', 'k', 'l']\n",
      "__________________________________________________\n",
      "[3:6]->['g', 'h', 'i']\n",
      "[-3:-1]->['j', 'k']\n",
      "[:]->['d', 'e', 'f', 'g', 'h', 'i', 'j', 'k', 'l']\n"
     ]
    }
   ],
   "source": [
    "lst_s=list(map(chr,range(100,109)))\n",
    "print(lst_s)\n",
    "print(\"_\"*50)\n",
    "print(\"[3:6]->{}\".format(lst_s[3:6]))\n",
    "print(\"[-3:-1]->{}\".format(lst_s[-3:-1]))\n",
    "print(\"[:]->{}\".format(lst_s[:]))"
   ]
  },
  {
   "cell_type": "code",
   "execution_count": 33,
   "id": "5c28965e-b0d1-4862-84cf-615f8da34d48",
   "metadata": {},
   "outputs": [
    {
     "name": "stdout",
     "output_type": "stream",
     "text": [
      "['d', 'e', 'f', 'g', 'h', 'i', 'j', 'k', 'l']\n",
      "__________________________________________________\n",
      "[0:10:2]->['d', 'f', 'h', 'j', 'l']\n",
      "[::3]->['d', 'g', 'j']\n",
      "[9:3:-2]->['l', 'j', 'h']\n",
      "[20:3:-2]->['l', 'j', 'h']\n",
      "[7::-2]->['k', 'i', 'g', 'e']\n",
      "[:3:-2]->['l', 'j', 'h']\n"
     ]
    }
   ],
   "source": [
    "print(lst_s)\n",
    "print(\"_\"*50)\n",
    "print(\"[0:10:2]->{}\".format(lst_s[0:10:2]))\n",
    "print(\"[::3]->{}\".format(lst_s[::3]))\n",
    "print(\"[9:3:-2]->{}\".format(lst_s[9:3:-2]))\n",
    "print(\"[20:3:-2]->{}\".format(lst_s[20:3:-2]))\n",
    "print(\"[7::-2]->{}\".format(lst_s[7::-2]))\n",
    "print(\"[:3:-2]->{}\".format(lst_s[:3:-2]))\n"
   ]
  },
  {
   "cell_type": "code",
   "execution_count": 36,
   "id": "fab51259-f25e-4d9b-8bb1-713a7dbf421e",
   "metadata": {},
   "outputs": [
    {
     "name": "stdout",
     "output_type": "stream",
     "text": [
      "tuple_1=2,3,5,->(1, 3, 5)\n",
      "3*(20*4,)->(80, 80, 80)\n",
      "tuple((5,7,9))->(5, 7, 9)\n"
     ]
    }
   ],
   "source": [
    "tuple_1=1,3,5,\n",
    "print(\"tuple_1=2,3,5,->{}\".format(tuple_1))\n",
    "print(\"3*(20*4,)->{}\".format(3*(20*4,)))\n",
    "print(\"tuple((5,7,9))->{}\".format(tuple((5,7,9)))) \n"
   ]
  },
  {
   "cell_type": "raw",
   "id": "5a0095ef-18c9-4a3b-9e70-bc8c335148a3",
   "metadata": {},
   "source": [
    " dict={\"a\":(\"apple\",)<\"bo\":{\"b\":\"banana\",\"o\":\"orange\"},\"g\":[\"grape\",\"grapefruit\"]}\n",
    " print dict[\"a\"]\n",
    " print dict[\"a\"][0]\n",
    " print dict[\"bo\"]\n",
    " print dict[\"bo\"][o]\n",
    " print dict[\"g\"]\n",
    " print dict[\"g\"]{1]"
   ]
  },
  {
   "cell_type": "code",
   "execution_count": 4,
   "id": "b182a3d0-809b-4b5b-837f-1187e7899823",
   "metadata": {},
   "outputs": [
    {
     "name": "stdout",
     "output_type": "stream",
     "text": [
      "s_1=s_template_1.substitute(x=\"Python\")->Python,glorious,Python!\n",
      "s_2=s_template_2.substitute(x=\"py\")->python is amazing!\n",
      "substitute_dict={'x': 'Python', 'y': 'Grasshopper'}\n",
      "s_3=s_template_3.substitute(substitute_dict)->Python and Grasshopper are both amazing!\n"
     ]
    }
   ],
   "source": [
    "from string import Template\n",
    "s_template_1=Template(\"$x,glorious,$x!\")\n",
    "s_1=s_template_1.substitute(x=\"Python\")\n",
    "print(\"s_1=s_template_1.substitute(x=\\\"Python\\\")->{}\".format(s_1))\n",
    "s_template_2=Template(\"${x}thon is amazing!\")\n",
    "s_2=s_template_2.substitute(x=\"py\")\n",
    "print(\"s_2=s_template_2.substitute(x=\\\"py\\\")->{}\".format(s_2))\n",
    "s_template_3=Template(\"$x and $y are both amazing!\")\n",
    "substitute_dict=dict([('x','Python'),('y','Grasshopper')])\n",
    "print(\"substitute_dict={}\".format(substitute_dict))\n",
    "s_3=s_template_3.substitute(substitute_dict)\n",
    "print(\"s_3=s_template_3.substitute(substitute_dict)->{}\".format(s_3))\n"
   ]
  },
  {
   "cell_type": "code",
   "execution_count": 8,
   "id": "855ffc96-bec9-415d-af7e-96a378286a06",
   "metadata": {},
   "outputs": [
    {
     "name": "stdout",
     "output_type": "stream",
     "text": [
      "items->[(0, [0, 1, 2, 3, 4]), (1, [[191, 120, 102]]), (2, 'python')]\n",
      "dic=dict(items)->{0: [0, 1, 2, 3, 4], 1: [[191, 120, 102]], 2: 'python'}\n",
      "dic[1]->[[191, 120, 102]]\n"
     ]
    }
   ],
   "source": [
    "import random\n",
    "items=[(0,[i for i in range(5)]),(1,[random.sample(list(range(100,200,1)),3)]),(2,'python')]\n",
    "print(\"items->{}\".format(items))\n",
    "dic=dict(items)\n",
    "print(\"dic=dict(items)->{}\".format(dic))\n",
    "print(\"dic[1]->{}\".format(dic[1]))"
   ]
  },
  {
   "cell_type": "code",
   "execution_count": 9,
   "id": "a61e8bf6-c6c7-4bbb-9790-0a4399762c9a",
   "metadata": {},
   "outputs": [
    {
     "name": "stdout",
     "output_type": "stream",
     "text": [
      "lst_A=[6, 9, 12, 15, 18, 21],lst_B=[60, 75, 90, 105, 120, 135]\n",
      "dic_2={0: [6, 9, 12, 15, 18, 21], 1: [60, 75, 90, 105, 120, 135]}\n"
     ]
    }
   ],
   "source": [
    "lst_A=list(range(6,24,3))\n",
    "lst_B=list(range(60,150,15))\n",
    "print(\"lst_A={},lst_B={}\".format(lst_A,lst_B))\n",
    "dic_2={0:lst_A,1:lst_B}\n",
    "print(\"dic_2={}\".format(dic_2))"
   ]
  },
  {
   "cell_type": "code",
   "execution_count": 10,
   "id": "4e30fe5a-8315-4eb6-ad43-8c5e4df8df36",
   "metadata": {},
   "outputs": [
    {
     "name": "stdout",
     "output_type": "stream",
     "text": [
      "1*1=1 \n",
      "\n",
      "2*1=2 2*2=4 \n",
      "\n",
      "3*1=3 3*2=6 3*3=9 \n",
      "\n",
      "4*1=4 4*2=8 4*3=12 4*4=16 \n",
      "\n",
      "5*1=5 5*2=10 5*3=15 5*4=20 5*5=25 \n",
      "\n",
      "6*1=6 6*2=12 6*3=18 6*4=24 6*5=30 6*6=36 \n",
      "\n",
      "7*1=7 7*2=14 7*3=21 7*4=28 7*5=35 7*6=42 7*7=49 \n",
      "\n",
      "8*1=8 8*2=16 8*3=24 8*4=32 8*5=40 8*6=48 8*7=56 8*8=64 \n",
      "\n",
      "9*1=9 9*2=18 9*3=27 9*4=36 9*5=45 9*6=54 9*7=63 9*8=72 9*9=81 \n",
      "\n"
     ]
    }
   ],
   "source": [
    "i=1\n",
    "while i<10:\n",
    "    j=1\n",
    "    while j <= i:\n",
    "        print(\"%d*%d=%d\"%(i,j,i*j),end=' ')\n",
    "        j+=1 \n",
    "    print(\"\\n\") \n",
    "    i+=1 "
   ]
  },
  {
   "cell_type": "code",
   "execution_count": 11,
   "id": "08a49154-2e5f-4de6-8576-523998ca6520",
   "metadata": {},
   "outputs": [
    {
     "name": "stdout",
     "output_type": "stream",
     "text": [
      "dict0: {}\n",
      "dict1: {'name': 'li', 'age': 24}\n",
      "dict2: {'user': 'admin', 'password': 123456}\n",
      "dict3: {'student': 1, 'teacher': 2}\n",
      "dict5: {'a': 3, 'A': 4}\n"
     ]
    }
   ],
   "source": [
    "dict0 = dict() \n",
    "print('dict0:', dict0)\n",
    " \n",
    "dict1 = dict({'name': 'li', 'age': 24})  \n",
    "print('dict1:', dict1)\n",
    " \n",
    "dict2 = dict(user='admin', password=123456) \n",
    "print('dict2:', dict2)\n",
    " \n",
    "dict3 = dict([('student', 1), ('teacher', 2)]) \n",
    "print('dict3:', dict3)\n",
    " \n",
    "dict5 = dict(zip(['a', 'A'], [3, 4]))  \n",
    "print('dict5:', dict5)"
   ]
  },
  {
   "cell_type": "code",
   "execution_count": 12,
   "id": "2b941696-6be4-46ee-bff2-6329157785b7",
   "metadata": {},
   "outputs": [
    {
     "name": "stdout",
     "output_type": "stream",
     "text": [
      "['2345', '4567']\n"
     ]
    }
   ],
   "source": [
    "import re\n",
    "string=\"2345  3456  4567  5678\"\n",
    "regex=re.compile(\"(\\w+)\\s+\\w+\")\n",
    "print(regex.findall(string))"
   ]
  },
  {
   "cell_type": "code",
   "execution_count": 13,
   "id": "8dfe349e-23a7-4901-ab44-af6dd986760c",
   "metadata": {},
   "outputs": [
    {
     "name": "stdout",
     "output_type": "stream",
     "text": [
      "0\n",
      "1\n",
      "2\n",
      "3\n",
      "4\n"
     ]
    }
   ],
   "source": [
    "for i in range(5):\n",
    " print(i)"
   ]
  },
  {
   "cell_type": "code",
   "execution_count": 14,
   "id": "e5905e36-3976-447c-99ef-eebd1563ad98",
   "metadata": {},
   "outputs": [
    {
     "name": "stdout",
     "output_type": "stream",
     "text": [
      "2550\n"
     ]
    }
   ],
   "source": [
    "sum = 0\n",
    "for i in range(2,101,2):\n",
    "    sum += i\n",
    "print(sum)"
   ]
  },
  {
   "cell_type": "code",
   "execution_count": 15,
   "id": "47c89a1f-e7ab-4034-a5b4-eddb168ec300",
   "metadata": {},
   "outputs": [
    {
     "name": "stdin",
     "output_type": "stream",
     "text": [
      "请输入一个数字： 56\n"
     ]
    },
    {
     "name": "stdout",
     "output_type": "stream",
     "text": [
      "56的阶乘为：710998587804863451854045647463724949736497978881168458687447040000000000000\n"
     ]
    }
   ],
   "source": [
    "num = int(input('请输入一个数字：'))\n",
    "res = 1\n",
    "for i in range(1, num + 1):   \n",
    " res*=i\n",
    "print('%d的阶乘为：%d' %(num,res))"
   ]
  },
  {
   "cell_type": "code",
   "execution_count": 16,
   "id": "2b9daed6-aeda-44cc-8efd-2f5e5912e889",
   "metadata": {},
   "outputs": [
    {
     "name": "stdout",
     "output_type": "stream",
     "text": [
      "123\n",
      "124\n",
      "132\n",
      "134\n",
      "142\n",
      "143\n",
      "213\n",
      "214\n",
      "231\n",
      "234\n",
      "241\n",
      "243\n",
      "312\n",
      "314\n",
      "321\n",
      "324\n",
      "341\n",
      "342\n",
      "412\n",
      "413\n",
      "421\n",
      "423\n",
      "431\n",
      "432\n"
     ]
    }
   ],
   "source": [
    "for x in range(1,5):\n",
    "    for y in range(1,5):\n",
    "        for z in range(1,5):\n",
    "                if (x!=y) and (y!=z) and (z!=x):\n",
    "                        print(\"%d%d%d\" % (x, y, z))"
   ]
  },
  {
   "cell_type": "code",
   "execution_count": 17,
   "id": "2df4951d-1e57-4a54-9dc2-f1f934bc0371",
   "metadata": {},
   "outputs": [
    {
     "name": "stdout",
     "output_type": "stream",
     "text": [
      "1*1=1\t1*2=2\t1*3=3\t1*4=4\t1*5=5\t1*6=6\t1*7=7\t1*8=8\t1*9=9\t\n",
      "2*1=2\t2*2=4\t2*3=6\t2*4=8\t2*5=10\t2*6=12\t2*7=14\t2*8=16\t\n",
      "3*1=3\t3*2=6\t3*3=9\t3*4=12\t3*5=15\t3*6=18\t3*7=21\t\n",
      "4*1=4\t4*2=8\t4*3=12\t4*4=16\t4*5=20\t4*6=24\t\n",
      "5*1=5\t5*2=10\t5*3=15\t5*4=20\t5*5=25\t\n",
      "6*1=6\t6*2=12\t6*3=18\t6*4=24\t\n",
      "7*1=7\t7*2=14\t7*3=21\t\n",
      "8*1=8\t8*2=16\t\n",
      "9*1=9\t\n"
     ]
    }
   ],
   "source": [
    "row = 1\n",
    "while row <= 9:\n",
    "    col = 1\n",
    "    while col <= 10 - row:\n",
    "        print('%d*%d=%d\\t' % (row, col, row * col), end='')\n",
    "        col += 1\n",
    "    print('')\n",
    "    row += 1"
   ]
  },
  {
   "cell_type": "code",
   "execution_count": 18,
   "id": "c6eae0ac-b308-4696-a3d5-df37b68b5101",
   "metadata": {},
   "outputs": [
    {
     "name": "stdout",
     "output_type": "stream",
     "text": [
      "The count is:0\n",
      "The count is:1\n",
      "The count is:2\n",
      "The count is:3\n",
      "The count is:4\n",
      "The count is:5\n",
      "The count is:6\n",
      "The count is:7\n",
      "The count is:8\n",
      "Good bye!\n"
     ]
    }
   ],
   "source": [
    "count = 0\n",
    "while count < 9:\n",
    "    print('The count is:%d' %count)\n",
    "    count = count + 1\n",
    "print(\"Good bye!\")"
   ]
  },
  {
   "cell_type": "code",
   "execution_count": null,
   "id": "f74ac079-9a01-4f22-be20-31221bea3381",
   "metadata": {},
   "outputs": [
    {
     "name": "stdin",
     "output_type": "stream",
     "text": [
      "enter a number: 16\n"
     ]
    },
    {
     "name": "stdout",
     "output_type": "stream",
     "text": [
      "your number is  16\n"
     ]
    },
    {
     "name": "stdin",
     "output_type": "stream",
     "text": [
      "enter a number: 36\n"
     ]
    },
    {
     "name": "stdout",
     "output_type": "stream",
     "text": [
      "your number is  36\n"
     ]
    }
   ],
   "source": [
    "while True:\n",
    "    num=input('enter a number:')\n",
    "    print('your number is ',num)\n",
    "print ('循环结束！')"
   ]
  },
  {
   "cell_type": "code",
   "execution_count": null,
   "id": "8a937679-ea94-4d1d-a1dc-249e02ff04fb",
   "metadata": {},
   "outputs": [],
   "source": [
    "row = 1\n",
    "while row <=5:\n",
    "    col=1\n",
    "    while col<=row:\n",
    "        print('*',end='')\n",
    "        col +=1\n",
    "    print('') \n",
    "    row +=1"
   ]
  },
  {
   "cell_type": "code",
   "execution_count": null,
   "id": "b253fc5b-f10c-49e8-9930-559f796303dc",
   "metadata": {},
   "outputs": [],
   "source": [
    "age = 18\n",
    "if age >= 18:\n",
    "    print('你已成年！')\n",
    "else:\n",
    "    print('你未成年！')"
   ]
  },
  {
   "cell_type": "code",
   "execution_count": null,
   "id": "d77a8b54-c44e-4e36-b961-d57cf6ad94bd",
   "metadata": {},
   "outputs": [],
   "source": [
    "year = int(input('输入年份:'))\n",
    "if year %4 ==0 and year %100 != 0:\n",
    "    print('%d是闰年' %year)\n",
    "elif year %400 ==0:\n",
    "    print('%d是闰年'%year)\n",
    "else:\n",
    "    print('%d不是闰年' %year)"
   ]
  },
  {
   "cell_type": "code",
   "execution_count": null,
   "id": "01a2e7bc-39aa-4dfc-a73a-900674850983",
   "metadata": {},
   "outputs": [],
   "source": [
    "def test_classmethod(cls):\n",
    "        print(\"This is classmethod\")\n",
    "        print(\"stc_attr\", cls.stc_attr)\n",
    "        print(\"attr\", cls.attr)"
   ]
  },
  {
   "cell_type": "code",
   "execution_count": null,
   "id": "0f004bc6-4c29-4991-bad0-ae8deb1348d3",
   "metadata": {},
   "outputs": [],
   "source": [
    "def me(x):\n",
    "    if x == 1:\n",
    "        return x\n",
    "    return x* me(x-1)"
   ]
  },
  {
   "cell_type": "code",
   "execution_count": null,
   "id": "f1393342-411f-4534-9fd3-50a4aed09cb9",
   "metadata": {},
   "outputs": [],
   "source": [
    "print(\"when we use 'for':\")\n",
    "for i in range(10):\n",
    "    print('i:',i)\n",
    "    for j in range(i+1,10):\n",
    "        print('\\tj=',j)\n",
    "        if i+j<5:\n",
    "            j=j+1\n",
    "            continue\n",
    "        else:\n",
    "            i=j\n",
    "            break"
   ]
  },
  {
   "cell_type": "code",
   "execution_count": null,
   "id": "d3dd2b0c-0932-4b38-92cb-9514df028fd5",
   "metadata": {},
   "outputs": [],
   "source": []
  }
 ],
 "metadata": {
  "kernelspec": {
   "display_name": "Python 3",
   "language": "python",
   "name": "python3"
  },
  "language_info": {
   "codemirror_mode": {
    "name": "ipython",
    "version": 3
   },
   "file_extension": ".py",
   "mimetype": "text/x-python",
   "name": "python",
   "nbconvert_exporter": "python",
   "pygments_lexer": "ipython3",
   "version": "3.8.8"
  }
 },
 "nbformat": 4,
 "nbformat_minor": 5
}
